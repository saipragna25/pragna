{
  "nbformat": 4,
  "nbformat_minor": 0,
  "metadata": {
    "colab": {
      "provenance": [],
      "name": "datamining2.ipynb",
      "authorship_tag": "ABX9TyOj9/Fu4Zla3mRcdPf5pnSJ",
      "include_colab_link": true
    },
    "kernelspec": {
      "name": "python3",
      "display_name": "Python 3"
    },
    "language_info": {
      "name": "python"
    }
  },
  "cells": [
    {
      "cell_type": "markdown",
      "metadata": {
        "id": "view-in-github",
        "colab_type": "text"
      },
      "source": [
        "<a href=\"https://colab.research.google.com/github/saipragna25/pragna/blob/main/datamining2.ipynb\" target=\"_parent\"><img src=\"https://colab.research.google.com/assets/colab-badge.svg\" alt=\"Open In Colab\"/></a>"
      ]
    },
    {
      "cell_type": "code",
      "execution_count": null,
      "metadata": {
        "colab": {
          "base_uri": "https://localhost:8080/"
        },
        "id": "09h1NUC4eCAl",
        "outputId": "935ae9dc-0afa-4a0f-ba5b-7ba965abdea0"
      },
      "outputs": [
        {
          "output_type": "stream",
          "name": "stdout",
          "text": [
            "hello world\n"
          ]
        }
      ],
      "source": [
        "print(\"hello world\")"
      ]
    },
    {
      "cell_type": "code",
      "source": [
        "name=\"derek\"\n",
        "print(name)"
      ],
      "metadata": {
        "id": "6qVryzD5eUNu",
        "colab": {
          "base_uri": "https://localhost:8080/"
        },
        "outputId": "0b610267-ffef-4543-b8ec-c12406b70083"
      },
      "execution_count": null,
      "outputs": [
        {
          "output_type": "stream",
          "name": "stdout",
          "text": [
            "derek\n"
          ]
        }
      ]
    },
    {
      "cell_type": "code",
      "source": [
        "print(\"5+2 =\", 5+2)\n",
        "print(\"5-3 =\", 5-3)\n",
        "print(\"5*3 =\", 5*3)\n",
        "print(\"5/2 =\", 5/2)\n",
        "print(\"5%2 =\", 5%2)\n",
        "print(\"5**2 =\", 5**2)\n",
        "print(\"5//2 =\", 5//2)\n"
      ],
      "metadata": {
        "colab": {
          "base_uri": "https://localhost:8080/"
        },
        "id": "gBZy_rp2jBzT",
        "outputId": "86f18a75-0386-4edb-efc9-e7733c189dfd"
      },
      "execution_count": null,
      "outputs": [
        {
          "output_type": "stream",
          "name": "stdout",
          "text": [
            "5+2 = 7\n",
            "5-3 = 2\n",
            "5*3 = 15\n",
            "5/2 = 2.5\n",
            "5%2 = 1\n",
            "5**2 = 25\n",
            "5//2 = 2\n"
          ]
        }
      ]
    },
    {
      "cell_type": "code",
      "source": [
        "print(\"1+2-3*2 =\", 1+2-3*2)\n",
        "print(\"(1+2-3)*2 =\", (1+2-3)*2) "
      ],
      "metadata": {
        "colab": {
          "base_uri": "https://localhost:8080/"
        },
        "id": "oC8nNBXAkUd5",
        "outputId": "1e911455-f5db-4ef6-dd19-6724b11db2b0"
      },
      "execution_count": null,
      "outputs": [
        {
          "output_type": "stream",
          "name": "stdout",
          "text": [
            "1+2-3*2 = -3\n",
            "(1+2-3)*2 = 0\n"
          ]
        }
      ]
    },
    {
      "cell_type": "code",
      "source": [
        "quote =\"\\\"always remember you are unique\"\n",
        "\n",
        "multi_line_quote = ''' just\n",
        "like everyone else '''\n",
        "\n",
        "print(\"%s %s %s\"% (' I like the quite', quote, multi_line_quote ))\n"
      ],
      "metadata": {
        "id": "nMyyQ8SFlGiO",
        "colab": {
          "base_uri": "https://localhost:8080/"
        },
        "outputId": "f497a8ad-6d9d-4532-dc99-37294ffeaac8"
      },
      "execution_count": null,
      "outputs": [
        {
          "output_type": "stream",
          "name": "stdout",
          "text": [
            " I like the quite \"always remember you are unique  just\n",
            "like everyone else \n"
          ]
        }
      ]
    },
    {
      "cell_type": "code",
      "source": [
        "print('\\n' * 5)"
      ],
      "metadata": {
        "colab": {
          "base_uri": "https://localhost:8080/"
        },
        "id": "F-NEVKzVqVKX",
        "outputId": "097c65ec-706d-4be3-a1e1-a611118f7dbd"
      },
      "execution_count": null,
      "outputs": [
        {
          "output_type": "stream",
          "name": "stdout",
          "text": [
            "\n",
            "\n",
            "\n",
            "\n",
            "\n",
            "\n"
          ]
        }
      ]
    },
    {
      "cell_type": "code",
      "source": [
        "print(\" i dont like \", end=\"\")\n",
        "print(\" newlines \")"
      ],
      "metadata": {
        "colab": {
          "base_uri": "https://localhost:8080/"
        },
        "id": "DTcbx1MipqU6",
        "outputId": "1e48f5f5-bb00-47c9-8851-b2f5101ab8aa"
      },
      "execution_count": null,
      "outputs": [
        {
          "output_type": "stream",
          "name": "stdout",
          "text": [
            " i dont like  newlines \n"
          ]
        }
      ]
    },
    {
      "cell_type": "code",
      "source": [
        "grocery_list = ['juice', 'tomatoes', 'potatoes', 'bananas']\n",
        "\n",
        "\n",
        "print('first item', grocery_list[0])"
      ],
      "metadata": {
        "colab": {
          "base_uri": "https://localhost:8080/"
        },
        "id": "NqogjIBNqjRD",
        "outputId": "db1c6843-818f-4f1a-e59b-59ceb2724c81"
      },
      "execution_count": null,
      "outputs": [
        {
          "output_type": "stream",
          "name": "stdout",
          "text": [
            "first item juice\n"
          ]
        }
      ]
    },
    {
      "cell_type": "code",
      "source": [
        "grocery_list[0] = \"green juice\"\n",
        "print('first item',  grocery_list[0])"
      ],
      "metadata": {
        "colab": {
          "base_uri": "https://localhost:8080/"
        },
        "id": "AUq3T80hrHUn",
        "outputId": "19470f16-9004-472e-cbf5-ffde2034661a"
      },
      "execution_count": null,
      "outputs": [
        {
          "output_type": "stream",
          "name": "stdout",
          "text": [
            "first item green juice\n"
          ]
        }
      ]
    },
    {
      "cell_type": "code",
      "source": [
        "print(grocery_list[1:3])"
      ],
      "metadata": {
        "colab": {
          "base_uri": "https://localhost:8080/"
        },
        "id": "0cwHNZn7rqfh",
        "outputId": "5616b9a4-7a45-402e-c4c5-94fd08131294"
      },
      "execution_count": null,
      "outputs": [
        {
          "output_type": "stream",
          "name": "stdout",
          "text": [
            "['tomatoes', 'potatoes']\n"
          ]
        }
      ]
    },
    {
      "cell_type": "code",
      "source": [
        "others_events = ['wash car', 'pick up kids', 'cash check']\n",
        "\n",
        "to_do_list = [others_events, grocery_list]\n",
        "print(to_do_list)"
      ],
      "metadata": {
        "colab": {
          "base_uri": "https://localhost:8080/"
        },
        "id": "LHvvcCRbrzM2",
        "outputId": "7128d9e4-9b51-4de0-b7d3-e693fb5e0dc9"
      },
      "execution_count": null,
      "outputs": [
        {
          "output_type": "stream",
          "name": "stdout",
          "text": [
            "[['wash car', 'pick up kids', 'cash check'], ['green juice', 'tomatoes', 'potatoes', 'bananas']]\n"
          ]
        }
      ]
    },
    {
      "cell_type": "code",
      "source": [
        "print((to_do_list[1][1]))"
      ],
      "metadata": {
        "colab": {
          "base_uri": "https://localhost:8080/"
        },
        "id": "lKGvXse-scd2",
        "outputId": "7628b2fa-5618-4d44-df89-80fd8fadbe7d"
      },
      "execution_count": null,
      "outputs": [
        {
          "output_type": "stream",
          "name": "stdout",
          "text": [
            "tomatoes\n"
          ]
        }
      ]
    },
    {
      "cell_type": "code",
      "source": [
        "grocery_list.append('onions')\n",
        "print(to_do_list)\n",
        "\n",
        "grocery_list.insert(1, \"pickle\")\n",
        "\n",
        "grocery_list.remove(\"pickle\")\n",
        "\n",
        "grocery_list.sort()\n",
        "\n",
        "grocery_list.reverse()\n",
        "\n",
        "del grocery_list[4]\n",
        "print(to_do_list)"
      ],
      "metadata": {
        "colab": {
          "base_uri": "https://localhost:8080/"
        },
        "id": "VB5xm2UXssRw",
        "outputId": "1d5de1d5-b029-499e-b840-6cbb01fd5c27"
      },
      "execution_count": null,
      "outputs": [
        {
          "output_type": "stream",
          "name": "stdout",
          "text": [
            "[['wash car', 'pick up kids', 'cash check'], ['green juice', 'tomatoes', 'potatoes', 'bananas', 'onions']]\n",
            "[['wash car', 'pick up kids', 'cash check'], ['tomatoes', 'potatoes', 'onions', 'green juice']]\n"
          ]
        }
      ]
    },
    {
      "cell_type": "code",
      "source": [
        "to_do_list2 = others_events + grocery_list\n",
        "\n",
        "print(len(to_do_list2))\n",
        "print(max(to_do_list2))\n",
        "print(min(to_do_list2))"
      ],
      "metadata": {
        "colab": {
          "base_uri": "https://localhost:8080/"
        },
        "id": "I94ETt4FttUg",
        "outputId": "9f434676-99c5-4186-eb23-e143285b89fd"
      },
      "execution_count": null,
      "outputs": [
        {
          "output_type": "stream",
          "name": "stdout",
          "text": [
            "7\n",
            "wash car\n",
            "cash check\n"
          ]
        }
      ]
    },
    {
      "cell_type": "code",
      "source": [
        "super_villians = {'fiddler' : 'issac bowin',\n",
        "                  'Captain Cold' : 'Leonard Snart',\n",
        "                  'Weather Wizard' : 'mark mardon',\n",
        "                  'mirror master' : 'sam scudder',\n",
        "                  'Pied piper' : 'thomas peterson' }\n",
        "\n",
        "print(super_villians['Captain Cold'])"
      ],
      "metadata": {
        "colab": {
          "base_uri": "https://localhost:8080/"
        },
        "id": "gnYIqlpxu82j",
        "outputId": "61a58285-2a43-4e1d-91ab-827d402e5f8a"
      },
      "execution_count": null,
      "outputs": [
        {
          "output_type": "stream",
          "name": "stdout",
          "text": [
            "Leonard Snart\n"
          ]
        }
      ]
    },
    {
      "cell_type": "code",
      "source": [
        "del super_villians['fiddler']\n",
        "\n",
        "super_villians['Pied piper'] = 'hartley rathaway'\n",
        "\n",
        "print(len(super_villians))\n",
        "\n"
      ],
      "metadata": {
        "colab": {
          "base_uri": "https://localhost:8080/"
        },
        "id": "9KFKOctjxtoM",
        "outputId": "87c2b9e9-4c1d-4ea4-8fc0-7432086197e5"
      },
      "execution_count": null,
      "outputs": [
        {
          "output_type": "stream",
          "name": "stdout",
          "text": [
            "4\n"
          ]
        }
      ]
    },
    {
      "cell_type": "code",
      "source": [
        "print(super_villians.get(\"Pied piper\"))\n",
        "\n",
        "print(super_villians.keys())\n",
        "\n",
        "print(super_villians.values())"
      ],
      "metadata": {
        "colab": {
          "base_uri": "https://localhost:8080/"
        },
        "id": "dlx-ExmfyowG",
        "outputId": "28febbdb-77bd-487c-b3b9-507ac66c249a"
      },
      "execution_count": null,
      "outputs": [
        {
          "output_type": "stream",
          "name": "stdout",
          "text": [
            "hartley rathaway\n",
            "dict_keys(['Captain Cold', 'Weather Wizard', 'mirror master', 'Pied piper'])\n",
            "dict_values(['Leonard Snart', 'mark mardon', 'sam scudder', 'hartley rathaway'])\n"
          ]
        }
      ]
    },
    {
      "cell_type": "code",
      "source": [
        "age = 30\n",
        "\n",
        "if age> 16 :\n",
        "  print('you are old enough to drive')\n",
        "else:\n",
        "  print('ypu are not old enough to drive')\n",
        "\n",
        "if age >= 21 :\n",
        "  print('you are old enought to drive a tracter trailer')\n",
        "elif age >= 16 :\n",
        "  print('you are old enough to drive a car')\n",
        "else:\n",
        "  print(\"yu are not old enough to drive \")\n",
        "\n",
        "if ((age >=1) and (age <= 18)):\n",
        "  print(\"you get a birthday\")\n",
        "elif (age == 21) or (age >= 65):\n",
        "  print(\" you get a birthday\")\n",
        "elif not(age == 30):\n",
        "  print(\"you don't get a birthday\")\n",
        "else:\n",
        "  print(\"you get a birthday party yeah\")"
      ],
      "metadata": {
        "colab": {
          "base_uri": "https://localhost:8080/"
        },
        "id": "WuRF72JuzIvW",
        "outputId": "b8533cb2-f02a-4203-c4f3-f8bf9786f2e4"
      },
      "execution_count": null,
      "outputs": [
        {
          "output_type": "stream",
          "name": "stdout",
          "text": [
            "you are old enough to drive\n",
            "you are old enought to drive a tracter trailer\n",
            "you get a birthday party yeah\n"
          ]
        }
      ]
    },
    {
      "cell_type": "code",
      "source": [
        "for x in range(0, 10):\n",
        "  print(x,' ', end=\"\")"
      ],
      "metadata": {
        "colab": {
          "base_uri": "https://localhost:8080/"
        },
        "id": "veWlKwXf1H7J",
        "outputId": "c0cedcac-c88a-4cfe-c66e-da8cea6a6efd"
      },
      "execution_count": null,
      "outputs": [
        {
          "output_type": "stream",
          "name": "stdout",
          "text": [
            "0  1  2  3  4  5  6  7  8  9  "
          ]
        }
      ]
    },
    {
      "cell_type": "code",
      "source": [
        "print('\\n')\n",
        "\n",
        "grocery_list = ['juice', 'tomatoes', 'potatoes', \n",
        "                'bananas']\n",
        "\n",
        "for y in grocery_list:\n",
        "  print(y)\n"
      ],
      "metadata": {
        "colab": {
          "base_uri": "https://localhost:8080/"
        },
        "id": "SxrWtrVs16Le",
        "outputId": "fc07c8c9-d2e7-4c8b-ba47-175903b0eff2"
      },
      "execution_count": null,
      "outputs": [
        {
          "output_type": "stream",
          "name": "stdout",
          "text": [
            "\n",
            "\n",
            "juice\n",
            "tomatoes\n",
            "potatoes\n",
            "bananas\n"
          ]
        }
      ]
    },
    {
      "cell_type": "code",
      "source": [
        "for x in [2,4,6,8,10]:\n",
        "  print(x)"
      ],
      "metadata": {
        "colab": {
          "base_uri": "https://localhost:8080/"
        },
        "id": "1c_26GHJ2eqY",
        "outputId": "f9a37e8e-0a91-4057-fafe-c9701178b251"
      },
      "execution_count": null,
      "outputs": [
        {
          "output_type": "stream",
          "name": "stdout",
          "text": [
            "2\n",
            "4\n",
            "6\n",
            "8\n",
            "10\n"
          ]
        }
      ]
    },
    {
      "cell_type": "code",
      "source": [
        "num_list = [[1,2,3],[10,20,30],[100,200,300]]\n",
        "\n",
        "for x in range(0,3):\n",
        "  for y in range(0,3):\n",
        "      print(num_list[x][y])\n"
      ],
      "metadata": {
        "colab": {
          "base_uri": "https://localhost:8080/"
        },
        "id": "Mggv3rOs2pDp",
        "outputId": "255b3384-677c-4ecb-c84d-ece568f1b6b7"
      },
      "execution_count": null,
      "outputs": [
        {
          "output_type": "stream",
          "name": "stdout",
          "text": [
            "1\n",
            "2\n",
            "3\n",
            "10\n",
            "20\n",
            "30\n",
            "100\n",
            "200\n",
            "300\n"
          ]
        }
      ]
    },
    {
      "cell_type": "code",
      "source": [
        "\n",
        "import random\n",
        "random_num = random.randrange(0, 100)\n",
        " \n",
        "while(random_num != 15):\n",
        "    print(random_num)\n",
        "    random_num = random.randrange(0 ,100)"
      ],
      "metadata": {
        "colab": {
          "base_uri": "https://localhost:8080/"
        },
        "id": "Bno0nGf43Qem",
        "outputId": "6184a5ea-0210-46b6-f950-bad8d5bd3fcd"
      },
      "execution_count": null,
      "outputs": [
        {
          "output_type": "stream",
          "name": "stdout",
          "text": [
            "23\n",
            "70\n",
            "44\n",
            "66\n",
            "35\n",
            "90\n",
            "7\n",
            "33\n",
            "39\n",
            "72\n",
            "84\n",
            "44\n",
            "92\n",
            "93\n",
            "5\n",
            "80\n",
            "87\n",
            "29\n",
            "68\n"
          ]
        }
      ]
    },
    {
      "cell_type": "code",
      "source": [
        "i = 0;\n",
        "\n",
        "while(i <= 20):\n",
        "    if(i%2 == 0):\n",
        "        print(i)\n",
        "    elif(i == 9):\n",
        "       break\n",
        "    else:\n",
        "      i += 1\n",
        "      continue\n",
        "\n",
        "    i += 1"
      ],
      "metadata": {
        "colab": {
          "base_uri": "https://localhost:8080/"
        },
        "id": "0_8wClMG5wnz",
        "outputId": "b87e29b0-0a78-42eb-f6a4-e45bbb4716e3"
      },
      "execution_count": null,
      "outputs": [
        {
          "output_type": "stream",
          "name": "stdout",
          "text": [
            "0\n",
            "2\n",
            "4\n",
            "6\n",
            "8\n"
          ]
        }
      ]
    },
    {
      "cell_type": "code",
      "source": [
        "\n",
        "import sys\n",
        "\n",
        "print('what is your name')\n",
        "\n",
        "name = sys.stdin.readline()\n",
        "\n"
      ],
      "metadata": {
        "colab": {
          "base_uri": "https://localhost:8080/"
        },
        "id": "b_ht_pOn7jgc",
        "outputId": "cc426313-d4cf-410b-ee96-a5413d0d902a"
      },
      "execution_count": null,
      "outputs": [
        {
          "output_type": "stream",
          "name": "stdout",
          "text": [
            "what is your name\n"
          ]
        }
      ]
    },
    {
      "cell_type": "code",
      "source": [
        "print('hello', 'pragna')"
      ],
      "metadata": {
        "colab": {
          "base_uri": "https://localhost:8080/"
        },
        "id": "zenS0-JF8dQI",
        "outputId": "54a6634f-3fcd-4aff-bd18-4f652f28cf99"
      },
      "execution_count": null,
      "outputs": [
        {
          "output_type": "stream",
          "name": "stdout",
          "text": [
            "hello pragna\n"
          ]
        }
      ]
    },
    {
      "cell_type": "code",
      "source": [
        "from traitlets.traitlets import Long\n",
        "long_string = \"i'll catch you if you fall - the floor\"\n",
        "\n",
        "print(long_string[0:4])\n",
        "\n",
        "print(long_string[-5:])\n",
        "\n",
        "print(long_string[:-5])\n",
        "\n",
        "print(long_string[:4] + \"be there\")\n",
        " "
      ],
      "metadata": {
        "colab": {
          "base_uri": "https://localhost:8080/"
        },
        "id": "gLmA8l459MJW",
        "outputId": "b86ef87d-af73-4376-c81f-7f9d6e54d713"
      },
      "execution_count": null,
      "outputs": [
        {
          "output_type": "stream",
          "name": "stdout",
          "text": [
            "i'll\n",
            "floor\n",
            "i'll catch you if you fall - the \n",
            "i'llbe there\n"
          ]
        }
      ]
    },
    {
      "cell_type": "code",
      "source": [
        "print(\"%c is my %s letter and my number %d number is %.5f\" %\n",
        "      ('x','favorite', 1, .14))"
      ],
      "metadata": {
        "colab": {
          "base_uri": "https://localhost:8080/"
        },
        "id": "_IyMayFL-SFN",
        "outputId": "66fca446-d21a-4d93-bea4-d123f5851a01"
      },
      "execution_count": null,
      "outputs": [
        {
          "output_type": "stream",
          "name": "stdout",
          "text": [
            "x is my favorite letter and my number 1 number is 0.14000\n"
          ]
        }
      ]
    },
    {
      "cell_type": "code",
      "source": [
        "long_string = \"i'll catch you if you fall - the floor\"\n",
        "\n",
        "print(long_string.capitalize())\n",
        "\n",
        "print(long_string.find(\"floor\"))"
      ],
      "metadata": {
        "colab": {
          "base_uri": "https://localhost:8080/"
        },
        "id": "kWd7g8le_Hgk",
        "outputId": "31f1221f-f4f6-4c60-f398-d8ebaf98b240"
      },
      "execution_count": null,
      "outputs": [
        {
          "output_type": "stream",
          "name": "stdout",
          "text": [
            "I'll catch you if you fall - the floor\n",
            "33\n"
          ]
        }
      ]
    },
    {
      "cell_type": "code",
      "source": [
        "print(long_string.isalpha())\n",
        "\n",
        "print(long_string.isalnum())\n",
        "\n",
        "print(len(long_string))\n",
        "\n",
        "print(long_string.replace(\"floor\", \"ground\"))\n",
        "\n",
        "print(long_string.strip())\n",
        "\n",
        "quote_list= long_string.split(\" \")\n",
        "print(quote_list)"
      ],
      "metadata": {
        "colab": {
          "base_uri": "https://localhost:8080/"
        },
        "id": "rsB3EzEZAJVa",
        "outputId": "f48434de-8dd9-487b-bc87-bb857ccafd0b"
      },
      "execution_count": null,
      "outputs": [
        {
          "output_type": "stream",
          "name": "stdout",
          "text": [
            "False\n",
            "False\n",
            "38\n",
            "i'll catch you if you fall - the ground\n",
            "i'll catch you if you fall - the floor\n",
            "[\"i'll\", 'catch', 'you', 'if', 'you', 'fall', '-', 'the', 'floor']\n"
          ]
        }
      ]
    },
    {
      "cell_type": "code",
      "source": [
        "\n",
        "import os\n",
        "\n",
        "test_file = open(\"test.txt\", \"wb\")\n",
        "\n",
        "print(test_file.mode)\n",
        "\n",
        "print(test_file.name)\n",
        "\n",
        "test_file.write(bytes(\"write me to the file\\n\", 'UTF-8'))\n",
        "\n",
        "test_file.close()\n",
        "\n",
        "test_file = open(\"test.txt\",\"r+\")\n",
        "\n",
        "text_in_file = test_file.read()\n",
        "print(text_in_file)\n",
        "\n",
        "os.remove(\"test.txt\")\n",
        "\n"
      ],
      "metadata": {
        "colab": {
          "base_uri": "https://localhost:8080/"
        },
        "id": "6haOC_2TBOHA",
        "outputId": "37348741-acd9-47fa-9c98-2fcef79276bd"
      },
      "execution_count": null,
      "outputs": [
        {
          "output_type": "stream",
          "name": "stdout",
          "text": [
            "wb\n",
            "test.txt\n",
            "write me to the file\n",
            "\n"
          ]
        }
      ]
    },
    {
      "cell_type": "code",
      "source": [
        "class Animal:\n",
        "    __name = \"\"\n",
        "    __height = 0\n",
        "    __weight = 0\n",
        "    __sound = 0\n",
        "\n",
        "    def __init__(self, name, height, weight, sound):\n",
        "       self.__name   = name\n",
        "       self.__height = height\n",
        "       self.__weight = weight\n",
        "       self.__sound  = sound\n",
        "\n",
        "    def set_name(self, name):\n",
        "      self.__name = name\n",
        "\n",
        "    def set_height(self, height):\n",
        "     self.__height = height\n",
        "\n",
        "    def set__weight(self, height):\n",
        "     self.__height  = height\n",
        "\n",
        "    def set_sound(self, sound):\n",
        "     self.__sound = sound\n",
        "\n",
        "    def get_name(self):\n",
        "       return self.__name\n",
        "\n",
        "    def get_height(self):\n",
        "       return str(self.__height)\n",
        "\n",
        "    def get_weight(self):\n",
        "        return str(self.__weight)\n",
        "\n",
        "    def get_sound(self):\n",
        "        return self.__sound\n",
        "\n",
        "    def get_type(self):\n",
        "        print(\"Animal\")\n",
        "\n",
        "    def toString(self):\n",
        "        return\"{} is {} cm tall and {} kilograms and say {}\".format(self.__name,\n",
        "                                                                    self.__height,\n",
        "                                                                    self.__weight,\n",
        "                                                                    self.__sound)\n",
        "cat = Animal('Whiskers', 33, 10, 'Meow')\n",
        "\n",
        "print(cat.toString())\n",
        "\n",
        "\n",
        "  \n",
        "\n",
        "\n",
        "\n"
      ],
      "metadata": {
        "colab": {
          "base_uri": "https://localhost:8080/"
        },
        "id": "X6eowdFFD-XH",
        "outputId": "9ddc4804-5b38-4385-b9dc-d0e274aae184"
      },
      "execution_count": null,
      "outputs": [
        {
          "output_type": "stream",
          "name": "stdout",
          "text": [
            "Whiskers is 33 cm tall and 10 kilograms and say Meow\n"
          ]
        }
      ]
    },
    {
      "cell_type": "code",
      "source": [
        "class Animal:\n",
        "    __name = \"\"\n",
        "    __height = 0\n",
        "    __weight = 0\n",
        "    __sound = 0\n",
        "\n",
        "    def __init__(self, name, height, weight, sound):\n",
        "       self._name   = name\n",
        "       self._height = height\n",
        "       self._weight = weight\n",
        "       self._sound  = sound\n",
        "\n",
        "    def set_name(self, name):\n",
        "      self._name = name\n",
        "\n",
        "    def set_height(self, height):\n",
        "     self._height = height\n",
        "\n",
        "    def set__weight(self, height):\n",
        "     self._height  = height\n",
        "\n",
        "    def set_sound(self, sound):\n",
        "     self._sound = sound\n",
        "\n",
        "    def get_name(self):\n",
        "       return self._name\n",
        "\n",
        "    def get_height(self):\n",
        "       return str(self._height)\n",
        "\n",
        "    def get_weight(self):\n",
        "        return str(self._weight)\n",
        "\n",
        "    def get_sound(self):\n",
        "        return self._sound\n",
        "\n",
        "    def get_type(self):\n",
        "        print(\"Animal\")\n",
        "\n",
        "    def toString(self):\n",
        "        return\"{} is {} cm tall and {} kilograms and say {}\".format(self.__name,\n",
        "                                                                    self.__height,\n",
        "                                                                    self.__weight,\n",
        "                                                                    self.__sound)\n",
        "\n",
        "\n",
        "class Dog(Animal):\n",
        "  __owner = \"\"\n",
        "\n",
        "  def __init__(self, name, height, weight, sound, owner):\n",
        "      self.__owner = owner\n",
        "      super(Dog, self).__init__(name,height,weight,sound)\n",
        "     \n",
        "     \n",
        "\n",
        "  def set_owner(self, owner):\n",
        "      self,__owner = owner\n",
        "\n",
        "  def get_owner(self):\n",
        "      return self.__owner\n",
        "\n",
        "  def get_type(self):\n",
        "      print(\"Dog\")\n",
        "\n",
        "  def toString(self):\n",
        "      return \"{} is {} cm tall and {} kilograms and say {} His owner is {}\".format(self._name,\n",
        "                                                                                    self._height,\n",
        "                                                                                    self._weight,\n",
        "                                                                                    self._sound,\n",
        "                                                                                    self.__owner)\n",
        "      \n",
        "      def multiple_sounds(self, how_many=None):\n",
        "          if how__many is None:\n",
        "              print(self.get_sound())\n",
        "          else:\n",
        "              print(self.get_sound() * how__many)\n",
        "  \n",
        "spot = Dog(\"Spot\" , 53, 27, \"Ruff\", \"Derek\")\n",
        "\n",
        "print(spot.toString())\n",
        "\n",
        "  \n",
        " "
      ],
      "metadata": {
        "colab": {
          "base_uri": "https://localhost:8080/"
        },
        "id": "MSvIjV1ky2h7",
        "outputId": "fdb5efe6-b362-46ae-c014-4ccbd1e73d20"
      },
      "execution_count": null,
      "outputs": [
        {
          "output_type": "stream",
          "name": "stdout",
          "text": [
            "Spot is 53 cm tall and 27 kilograms and say Ruff His owner is Derek\n"
          ]
        }
      ]
    },
    {
      "cell_type": "code",
      "source": [
        "class Animal:\n",
        "    __name = \"\"\n",
        "    __height = 0\n",
        "    __weight = 0\n",
        "    __sound = 0\n",
        "\n",
        "    def __init__(self, name, height, weight, sound):\n",
        "       self._name   = name\n",
        "       self._height = height\n",
        "       self._weight = weight\n",
        "       self._sound  = sound\n",
        "\n",
        "    def set_name(self, name):\n",
        "      self._name = name\n",
        "\n",
        "    def set_height(self, height):\n",
        "     self._height = height\n",
        "\n",
        "    def set__weight(self, height):\n",
        "     self._height  = height\n",
        "\n",
        "    def set_sound(self, sound):\n",
        "     self._sound = sound\n",
        "\n",
        "    def get_name(self):\n",
        "       return self._name\n",
        "\n",
        "    def get_height(self):\n",
        "       return str(self._height)\n",
        "\n",
        "    def get_weight(self):\n",
        "        return str(self._weight)\n",
        "\n",
        "    def get_sound(self):\n",
        "        return self._sound\n",
        "\n",
        "    def get_type(self):\n",
        "        print(\"Animal\")\n",
        "\n",
        "    def toString(self):\n",
        "        return\"{} is {} cm tall and {} kilograms and say {}\".format(self._name,\n",
        "                                                                    self._height,\n",
        "                                                                    self._weight,\n",
        "                                                                    self._sound)\n",
        "\n",
        "\n",
        "class Dog(Animal):\n",
        "  __owner = \"\"\n",
        "\n",
        "  def __init__(self, name, height, weight, sound, owner):\n",
        "      self.__owner = owner\n",
        "      super(Dog, self).__init__(name,height,weight,sound)\n",
        "     \n",
        "     \n",
        "\n",
        "  def set_owner(self, owner):\n",
        "      self,__owner = owner\n",
        "\n",
        "  def get_owner(self):\n",
        "      return self.__owner\n",
        "\n",
        "  def get_type(self):\n",
        "      print(\"Dog\")\n",
        "\n",
        "  def toString(self):\n",
        "      return \"{} is {} cm tall and {} kilograms and say {} His owner is {}\".format(self._name,\n",
        "                                                                                    self._height,\n",
        "                                                                                    self._weight,\n",
        "                                                                                    self._sound,\n",
        "                                                                                    self.__owner)\n",
        "      \n",
        "      def multiple_sounds(self, how_many=None):\n",
        "          if how__many is None:\n",
        "              print(self.get_sound())\n",
        "          else:\n",
        "              print(self.get_sound() * how__many)\n",
        "  \n",
        "cat = Animal('Whiskers', 33, 10, 'Meow')\n",
        "spot = Dog(\"Spot\" , 53, 27, \"Ruff\", \"Derek\")\n",
        "\n",
        "\n",
        "\n",
        "  \n",
        " \n",
        "\n",
        "\n",
        "class AnimalTesting:\n",
        "    def get_type(self, animal):\n",
        "        animal.get_type()\n",
        "\n",
        "test_animals = AnimalTesting()\n",
        "\n",
        "test_animals.get_type(cat)\n",
        "test_animals.get_type(spot)\n"
      ],
      "metadata": {
        "colab": {
          "base_uri": "https://localhost:8080/"
        },
        "id": "vd44S3vT829K",
        "outputId": "690a2f20-2c29-4bff-a705-e772dcad8281"
      },
      "execution_count": null,
      "outputs": [
        {
          "output_type": "stream",
          "name": "stdout",
          "text": [
            "Animal\n",
            "Dog\n"
          ]
        }
      ]
    },
    {
      "cell_type": "code",
      "source": [
        "class Animal:\n",
        "    __name = \"\"\n",
        "    __height = 0\n",
        "    __weight = 0\n",
        "    __sound = 0\n",
        "\n",
        "    def __init__(self, name, height, weight, sound):\n",
        "       self._name   = name\n",
        "       self._height = height\n",
        "       self._weight = weight\n",
        "       self._sound  = sound\n",
        "\n",
        "    def set_name(self, name):\n",
        "      self._name = name\n",
        "\n",
        "    def set_height(self, height):\n",
        "     self._height = height\n",
        "\n",
        "    def set__weight(self, height):\n",
        "     self._height  = height\n",
        "\n",
        "    def set_sound(self, sound):\n",
        "     self._sound = sound\n",
        "\n",
        "    def get_name(self):\n",
        "       return self._name\n",
        "\n",
        "    def get_height(self):\n",
        "       return str(self._height)\n",
        "\n",
        "    def get_weight(self):\n",
        "        return str(self._weight)\n",
        "\n",
        "    def get_sound(self):\n",
        "        return self._sound\n",
        "\n",
        "    def get_type(self):\n",
        "        print(\"Animal\")\n",
        "\n",
        "    def toString(self):\n",
        "        return\"{} is {} cm tall and {} kilograms and say {}\".format(self._name,\n",
        "                                                                    self._height,\n",
        "                                                                    self._weight,\n",
        "                                                                    self._sound)\n",
        "\n",
        "\n",
        "class Dog(Animal):\n",
        "  __owner = \"\"\n",
        "\n",
        "  def __init__(self, name, height, weight, sound, owner):\n",
        "      self.__owner = owner\n",
        "      super(Dog, self).__init__(name,height,weight,sound)\n",
        "     \n",
        "     \n",
        "\n",
        "  def set_owner(self, owner):\n",
        "      self.__owner = owner\n",
        "\n",
        "  def get_owner(self):\n",
        "      return self.__owner\n",
        "\n",
        "  def get_type(self):\n",
        "      print(\"Dog\")\n",
        "\n",
        "  def toString(self):\n",
        "      return \"{} is {} cm tall and {} kilograms and say {} His owner is {}\".format(self._name,\n",
        "                                                                                    self._height,\n",
        "                                                                                    self._weight,\n",
        "                                                                                    self._sound,\n",
        "                                                                                    self.__owner)\n",
        "      \n",
        "  def multiple_sounds(self, how_many=None):\n",
        "     if how_many is None:\n",
        "         print(self.get_sound())\n",
        "     else:\n",
        "         print(self.get_sound() * how_many)\n",
        "  \n",
        "cat = Animal('Whiskers', 33, 10, 'Meow')\n",
        "spot = Dog(\"Spot\" , 53, 27, \"Ruff\", \"Derek\")\n",
        "spot.multiple_sounds(4)\n",
        "spot.multiple_sounds()\n",
        "\n",
        "\n",
        "\n",
        "\n"
      ],
      "metadata": {
        "colab": {
          "base_uri": "https://localhost:8080/"
        },
        "id": "cECX4hjLxuLz",
        "outputId": "50d01c0d-9bd1-49f3-bf3c-82b663f1f309"
      },
      "execution_count": null,
      "outputs": [
        {
          "output_type": "stream",
          "name": "stdout",
          "text": [
            "RuffRuffRuffRuff\n",
            "Ruff\n"
          ]
        }
      ]
    }
  ]
}